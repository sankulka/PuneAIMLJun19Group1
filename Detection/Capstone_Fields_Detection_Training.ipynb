{
  "nbformat": 4,
  "nbformat_minor": 0,
  "metadata": {
    "accelerator": "TPU",
    "colab": {
      "name": "Capstone Object_Detection_Training.ipynb",
      "provenance": [],
      "collapsed_sections": []
    },
    "kernelspec": {
      "display_name": "Python 3",
      "language": "python",
      "name": "python3"
    },
    "language_info": {
      "codemirror_mode": {
        "name": "ipython",
        "version": 3
      },
      "file_extension": ".py",
      "mimetype": "text/x-python",
      "name": "python",
      "nbconvert_exporter": "python",
      "pygments_lexer": "ipython3",
      "version": "3.7.5"
    }
  },
  "cells": [
    {
      "cell_type": "markdown",
      "metadata": {
        "colab_type": "text",
        "id": "c2zIuU2I70fY"
      },
      "source": [
        "#### 1. Install TensorFlow Object Detection API\n",
        "- Please make sure you have installed tensorflow or tensorflow-gpu already. \n",
        "- Currently API requires TF 1.14 version (2.0 support will come in due course)\n",
        "- For latest install instructions, check the [github](https://github.com/tensorflow/models/tree/master/research/object_detection) page or [readthedocs](https://tensorflow-object-detection-api-tutorial.readthedocs.io/en/latest/training.html) site for this API."
      ]
    },
    {
      "cell_type": "code",
      "metadata": {
        "id": "AT-lbg83Lvs5",
        "colab_type": "code",
        "colab": {}
      },
      "source": [
        "import os\n",
        "import cv2\n",
        "import sys\n",
        "import numpy as np\n",
        "import pandas as pd\n",
        "from PIL import Image\n",
        "from google.colab import drive\n",
        "from sklearn import preprocessing\n",
        "from matplotlib import pyplot as plt"
      ],
      "execution_count": 0,
      "outputs": []
    },
    {
      "cell_type": "code",
      "metadata": {
        "colab_type": "code",
        "id": "ReVA6PLWe7mx",
        "colab": {}
      },
      "source": [
        "!pip uninstall tensorflow-gpu --quiet\n",
        "!pip uninstall tensorflow --quiet"
      ],
      "execution_count": 0,
      "outputs": []
    },
    {
      "cell_type": "code",
      "metadata": {
        "colab_type": "code",
        "id": "cKkgD5tXPWxP",
        "colab": {}
      },
      "source": [
        "!pip list"
      ],
      "execution_count": 0,
      "outputs": []
    },
    {
      "cell_type": "code",
      "metadata": {
        "colab_type": "code",
        "id": "E3JtLAC-f9HF",
        "colab": {}
      },
      "source": [
        "!pip install tensorflow-gpu==1.14.0 --quiet"
      ],
      "execution_count": 0,
      "outputs": []
    },
    {
      "cell_type": "markdown",
      "metadata": {
        "colab_type": "text",
        "id": "YmNitZeF-Q4L"
      },
      "source": [
        "Clone git repo tensorflow/models"
      ]
    },
    {
      "cell_type": "code",
      "metadata": {
        "colab_type": "code",
        "id": "eN25sglu-PFr",
        "colab": {}
      },
      "source": [
        "!git clone https://github.com/tensorflow/models"
      ],
      "execution_count": 0,
      "outputs": []
    },
    {
      "cell_type": "code",
      "metadata": {
        "colab_type": "code",
        "id": "MK9x4MwC-jRf",
        "colab": {}
      },
      "source": [
        "#Multiple folders including object_detection should exist in models/research folder\n",
        "!ls -l models/research/"
      ],
      "execution_count": 0,
      "outputs": []
    },
    {
      "cell_type": "markdown",
      "metadata": {
        "colab_type": "text",
        "id": "WPWh1kko-7Aq"
      },
      "source": [
        "Install other dependencies including protobuf compiler"
      ]
    },
    {
      "cell_type": "code",
      "metadata": {
        "colab_type": "code",
        "id": "_WZzKugC-6F_",
        "colab": {}
      },
      "source": [
        "!apt-get -qq install protobuf-compiler python-pil python-lxml python-tk\n",
        "!pip install --user Cython  --quiet\n",
        "!pip install --user contextlib2 --quiet\n",
        "!pip install --user jupyter --quiet\n",
        "!pip install --user matplotlib --quiet"
      ],
      "execution_count": 0,
      "outputs": []
    },
    {
      "cell_type": "markdown",
      "metadata": {
        "colab_type": "text",
        "id": "legL3ykhAG55"
      },
      "source": [
        "Protobuf compilation\n",
        "- Convert .pb files to python code in object detection folder"
      ]
    },
    {
      "cell_type": "code",
      "metadata": {
        "colab_type": "code",
        "id": "KpAYW6RXAdIf",
        "colab": {}
      },
      "source": [
        "#Move to models/research folder\n",
        "%cd models/research\n",
        "\n",
        "#Convert protobuf files to Python code using Protobuf compiler installed in previous step\n",
        "!protoc object_detection/protos/*.proto --python_out=."
      ],
      "execution_count": 0,
      "outputs": []
    },
    {
      "cell_type": "code",
      "metadata": {
        "colab_type": "code",
        "id": "1-E2GGJBRvr_",
        "colab": {}
      },
      "source": [
        "!ls -l object_detection/protos"
      ],
      "execution_count": 0,
      "outputs": []
    },
    {
      "cell_type": "markdown",
      "metadata": {
        "colab_type": "text",
        "id": "1kPSCzlpBr7M"
      },
      "source": [
        "Setup environment variable"
      ]
    },
    {
      "cell_type": "code",
      "metadata": {
        "colab_type": "code",
        "id": "oiyiHeCWBupo",
        "colab": {}
      },
      "source": [
        "#Change path to models/research and models/research/slim folders based on where you have cloned github repository above\n",
        "%set_env PYTHONPATH=$PYTHONPATH:/content/models/research:/content/models/research/slim"
      ],
      "execution_count": 0,
      "outputs": []
    },
    {
      "cell_type": "markdown",
      "metadata": {
        "colab_type": "text",
        "id": "JoY976saCDrr"
      },
      "source": [
        "Test Installation"
      ]
    },
    {
      "cell_type": "code",
      "metadata": {
        "colab_type": "code",
        "id": "GF7J_HFXCBFt",
        "colab": {}
      },
      "source": [
        "#To be run from models/research folder\n",
        "!python object_detection/builders/model_builder_test.py"
      ],
      "execution_count": 0,
      "outputs": []
    },
    {
      "cell_type": "markdown",
      "metadata": {
        "colab_type": "text",
        "id": "MY5yXLB-K9Dl"
      },
      "source": [
        "#### 3. Data Pre-processing : Convert XML to CSV"
      ]
    },
    {
      "cell_type": "code",
      "metadata": {
        "id": "ZpDAHjOUU1XF",
        "colab_type": "code",
        "colab": {}
      },
      "source": [
        "drive.mount('/gdrive')"
      ],
      "execution_count": 0,
      "outputs": []
    },
    {
      "cell_type": "code",
      "metadata": {
        "id": "a6Bhxly2Z8pn",
        "colab_type": "code",
        "colab": {}
      },
      "source": [
        "!ls -l '/gdrive/My Drive/Colab Notebooks/Capstone/Data'"
      ],
      "execution_count": 0,
      "outputs": []
    },
    {
      "cell_type": "markdown",
      "metadata": {
        "colab_type": "text",
        "id": "LSw6T4rjJt4N"
      },
      "source": [
        "Use xml_to_csv.py file provided. This script will read all XML files and save the information in a CSV file.\n",
        " Here we are copying the script file from Google Drive."
      ]
    },
    {
      "cell_type": "code",
      "metadata": {
        "id": "_HjDmjV5iqrX",
        "colab_type": "code",
        "colab": {}
      },
      "source": [
        "%cd /content"
      ],
      "execution_count": 0,
      "outputs": []
    },
    {
      "cell_type": "code",
      "metadata": {
        "id": "snVosy6gaIdd",
        "colab_type": "code",
        "colab": {}
      },
      "source": [
        "!mkdir Data"
      ],
      "execution_count": 0,
      "outputs": []
    },
    {
      "cell_type": "code",
      "metadata": {
        "id": "9Yhzo61laSxN",
        "colab_type": "code",
        "colab": {}
      },
      "source": [
        "!cp -r /gdrive/.shortcut-targets-by-id/1ff10ymfgpaqHIVjbSF1dtXpL4a3Fbx1J/Set1 Data\n",
        "!cp -r /gdrive/.shortcut-targets-by-id/1AoqNyiIZtUNf1dHbt5KV1oa_EXQ54xyR/Set2 Data\n",
        "!cp -r /gdrive/.shortcut-targets-by-id/12swxziUpu7rZ-5VcFcuAk0ef_la8eM1A/Set3 Data\n",
        "!cp -r /gdrive/.shortcut-targets-by-id/1YrgyEb8MCeZ_Hm1qXTma2e0Ur5q7OW-0/Set4 Data\n",
        "!cp -r /gdrive/.shortcut-targets-by-id/1I_LRq2OXjnXL6tgdnZm46Mkp0c5ufAIs/Set6 Data\n",
        "!cp -r /gdrive/.shortcut-targets-by-id/1InygFn-wZ3S_kMGPtyMzXXT8hDiZzOdR/Set7 Data\n",
        "!cp -r /gdrive/.shortcut-targets-by-id/1_lJO6yjUlcq2pK-WFepV5WebAUxaHjaK/Set8 Data\n",
        "!cp -r /gdrive/.shortcut-targets-by-id/1uLjfPb9lEWdl-g7sgIqnbBePwHbSs4w_/Set9 Data"
      ],
      "execution_count": 0,
      "outputs": []
    },
    {
      "cell_type": "code",
      "metadata": {
        "id": "91kS1MSPj80E",
        "colab_type": "code",
        "colab": {}
      },
      "source": [
        "!ls Data/Set*/*.tif* |wc"
      ],
      "execution_count": 0,
      "outputs": []
    },
    {
      "cell_type": "code",
      "metadata": {
        "id": "CsCt2wbLyAZF",
        "colab_type": "code",
        "colab": {}
      },
      "source": [
        "!mv Data/Set*/*.tif* Data\n",
        "!mv Data/Set*/*.xml* Data\n",
        "\n",
        "!ls Data/*.tif* |wc\n",
        "!ls Data/*.xml |wc"
      ],
      "execution_count": 0,
      "outputs": []
    },
    {
      "cell_type": "code",
      "metadata": {
        "id": "Oid5rwFWkovH",
        "colab_type": "code",
        "colab": {}
      },
      "source": [
        "!rm -r Data/Set*"
      ],
      "execution_count": 0,
      "outputs": []
    },
    {
      "cell_type": "code",
      "metadata": {
        "id": "h6w3qflXy-vy",
        "colab_type": "code",
        "colab": {}
      },
      "source": [
        "RESIZE = 4"
      ],
      "execution_count": 0,
      "outputs": []
    },
    {
      "cell_type": "code",
      "metadata": {
        "id": "0I6DophHk-xS",
        "colab_type": "code",
        "colab": {}
      },
      "source": [
        "%cd /content/Data"
      ],
      "execution_count": 0,
      "outputs": []
    },
    {
      "cell_type": "code",
      "metadata": {
        "id": "x1CMnVu0qvgG",
        "colab_type": "code",
        "colab": {}
      },
      "source": [
        "for infile in os.listdir(\"./\"):\n",
        "    #print(\"file : \" + infile)\n",
        "    words = infile.split(\".\")\n",
        "    if (words[1] == \"tif\" or words[1] == \"tiff\") :\n",
        "       im = Image.open(infile)\n",
        "       out = im.convert(\"RGB\")\n",
        "       #print(out.size)\n",
        "       out = out.resize((out.width // RESIZE, out.height //RESIZE))\n",
        "       #print(out.size)\n",
        "       outfile = words[0] + \".png\"\n",
        "       #print(\"new filename : \" + outfile)\n",
        "       out.save(outfile, \"png\")\n",
        "\n",
        "!ls *.png |wc"
      ],
      "execution_count": 0,
      "outputs": []
    },
    {
      "cell_type": "code",
      "metadata": {
        "id": "YmQ_6Hu9lFo5",
        "colab_type": "code",
        "colab": {}
      },
      "source": [
        "!rm *.tif*\n",
        "%cd \"/content\""
      ],
      "execution_count": 0,
      "outputs": []
    },
    {
      "cell_type": "code",
      "metadata": {
        "id": "lX3bFP_xavO3",
        "colab_type": "code",
        "colab": {}
      },
      "source": [
        "!cp '/gdrive/My Drive/Colab Notebooks/xml_to_csv.py' ."
      ],
      "execution_count": 0,
      "outputs": []
    },
    {
      "cell_type": "code",
      "metadata": {
        "id": "Wq6tmKckbPUu",
        "colab_type": "code",
        "colab": {}
      },
      "source": [
        "!python xml_to_csv.py -i Data -o pascal_voc.csv"
      ],
      "execution_count": 0,
      "outputs": []
    },
    {
      "cell_type": "code",
      "metadata": {
        "id": "GpX2GEGEbZa1",
        "colab_type": "code",
        "colab": {}
      },
      "source": [
        "!ls -l *.csv"
      ],
      "execution_count": 0,
      "outputs": []
    },
    {
      "cell_type": "code",
      "metadata": {
        "id": "Zo11FIj-bZM8",
        "colab_type": "code",
        "colab": {}
      },
      "source": [
        "df = pd.read_csv('pascal_voc.csv')"
      ],
      "execution_count": 0,
      "outputs": []
    },
    {
      "cell_type": "code",
      "metadata": {
        "id": "ktBqz1ripzx6",
        "colab_type": "code",
        "colab": {}
      },
      "source": [
        "len(df.filename.unique())"
      ],
      "execution_count": 0,
      "outputs": []
    },
    {
      "cell_type": "code",
      "metadata": {
        "id": "dEbaVZEw0XFl",
        "colab_type": "code",
        "colab": {}
      },
      "source": [
        "df['filename'] = df.filename.apply(lambda row: row.replace(\"tiff\", \"png\"))\n",
        "df['filename'] = df.filename.apply(lambda row: row.replace(\"tif\", \"png\"))"
      ],
      "execution_count": 0,
      "outputs": []
    },
    {
      "cell_type": "code",
      "metadata": {
        "id": "254osu50RfDF",
        "colab_type": "code",
        "colab": {}
      },
      "source": [
        "len(df.filename.unique())"
      ],
      "execution_count": 0,
      "outputs": []
    },
    {
      "cell_type": "code",
      "metadata": {
        "id": "aKQfJRI7uezI",
        "colab_type": "code",
        "colab": {}
      },
      "source": [
        "df['width'] = df['width'] // RESIZE\n",
        "df['height'] = df['height'] // RESIZE\n",
        "df['xmin'] = df['xmin'] // RESIZE\n",
        "df['xmax'] = df['xmax'] // RESIZE\n",
        "df['ymin'] = df['ymin'] // RESIZE\n",
        "df['ymax'] = df['ymax'] // RESIZE"
      ],
      "execution_count": 0,
      "outputs": []
    },
    {
      "cell_type": "code",
      "metadata": {
        "id": "sOsUOL_ebn0S",
        "colab_type": "code",
        "colab": {}
      },
      "source": [
        "df['class'].unique()"
      ],
      "execution_count": 0,
      "outputs": []
    },
    {
      "cell_type": "code",
      "metadata": {
        "id": "WvZxMihooOLP",
        "colab_type": "code",
        "colab": {}
      },
      "source": [
        "df.loc[df['class'] == 's']"
      ],
      "execution_count": 0,
      "outputs": []
    },
    {
      "cell_type": "code",
      "metadata": {
        "id": "g_QB8KFHnrJ1",
        "colab_type": "code",
        "colab": {}
      },
      "source": [
        "df.drop(index=df.loc[df['class'] == 's'].index, inplace=True)"
      ],
      "execution_count": 0,
      "outputs": []
    },
    {
      "cell_type": "code",
      "metadata": {
        "id": "V9YmgJAnRwq2",
        "colab_type": "code",
        "colab": {}
      },
      "source": [
        "len(df.filename.unique())"
      ],
      "execution_count": 0,
      "outputs": []
    },
    {
      "cell_type": "code",
      "metadata": {
        "id": "1ZgadAAzR0Rl",
        "colab_type": "code",
        "colab": {}
      },
      "source": [
        "df.shape"
      ],
      "execution_count": 0,
      "outputs": []
    },
    {
      "cell_type": "code",
      "metadata": {
        "id": "iPLcUAkBoWHb",
        "colab_type": "code",
        "colab": {}
      },
      "source": [
        "df['class'].unique()"
      ],
      "execution_count": 0,
      "outputs": []
    },
    {
      "cell_type": "code",
      "metadata": {
        "id": "uGwRcXYpoXoq",
        "colab_type": "code",
        "colab": {}
      },
      "source": [
        "len(df['class'].unique())"
      ],
      "execution_count": 0,
      "outputs": []
    },
    {
      "cell_type": "code",
      "metadata": {
        "id": "DsC_psQZkwpO",
        "colab_type": "code",
        "colab": {}
      },
      "source": [
        "#Label Encode class and add a 'label' column to the dataframe\n",
        "le = preprocessing.LabelEncoder()\n",
        "df['label'] = le.fit_transform(df['class'])\n",
        "df.head()"
      ],
      "execution_count": 0,
      "outputs": []
    },
    {
      "cell_type": "code",
      "metadata": {
        "id": "yThIog-Mkwf7",
        "colab_type": "code",
        "colab": {}
      },
      "source": [
        "#unique values in the label\n",
        "df.label.unique()"
      ],
      "execution_count": 0,
      "outputs": []
    },
    {
      "cell_type": "code",
      "metadata": {
        "id": "GOV6pAlak532",
        "colab_type": "code",
        "colab": {}
      },
      "source": [
        "#Object detection API expects index to start from 1 (and not 0)\n",
        "df['label'] = df['label'] + 1\n",
        "df.label.unique()"
      ],
      "execution_count": 0,
      "outputs": []
    },
    {
      "cell_type": "code",
      "metadata": {
        "id": "-xdj1-0uk5q_",
        "colab_type": "code",
        "colab": {}
      },
      "source": [
        "label_class_dict = dict(zip(df['label'], df['class']))\n",
        "label_class_dict"
      ],
      "execution_count": 0,
      "outputs": []
    },
    {
      "cell_type": "code",
      "metadata": {
        "id": "GA5hl9-pbnfL",
        "colab_type": "code",
        "colab": {}
      },
      "source": [
        "all_classes = df['filename'].unique()\n",
        "all_classes.shape"
      ],
      "execution_count": 0,
      "outputs": []
    },
    {
      "cell_type": "code",
      "metadata": {
        "id": "hwIfp1XmcKuE",
        "colab_type": "code",
        "colab": {}
      },
      "source": [
        "#Split images between training and test\n",
        "\n",
        "#80% of the data will be used for training\n",
        "mask = np.random.rand(all_classes.shape[0]) < 0.8\n",
        "\n",
        "#Get Training and Test images\n",
        "train_images = all_classes[mask]\n",
        "test_images = all_classes[~mask] "
      ],
      "execution_count": 0,
      "outputs": []
    },
    {
      "cell_type": "code",
      "metadata": {
        "id": "o56mWU8UcKkH",
        "colab_type": "code",
        "colab": {}
      },
      "source": [
        "#Check number of images in training and test\n",
        "train_images.shape, test_images.shape"
      ],
      "execution_count": 0,
      "outputs": []
    },
    {
      "cell_type": "code",
      "metadata": {
        "id": "XRCQD74-cKX6",
        "colab_type": "code",
        "colab": {}
      },
      "source": [
        "#Split dataframe between training and test\n",
        "train_df = df[df['filename'].isin(train_images)]\n",
        "test_df = df[df['filename'].isin(test_images)]"
      ],
      "execution_count": 0,
      "outputs": []
    },
    {
      "cell_type": "code",
      "metadata": {
        "id": "7HsaFl14cKKw",
        "colab_type": "code",
        "colab": {}
      },
      "source": [
        "train_df.shape, test_df.shape"
      ],
      "execution_count": 0,
      "outputs": []
    },
    {
      "cell_type": "code",
      "metadata": {
        "id": "Qy0o-uWFctkX",
        "colab_type": "code",
        "colab": {}
      },
      "source": [
        "#We will use opencv and matplotlib\n",
        "\n",
        "#Pickup a random image number\n",
        "img_num = np.random.randint(0, df.shape[0])\n",
        "\n",
        "#Read the image\n",
        "img_file = df.loc[img_num,'filename']\n",
        "img = cv2.imread('Data/' + img_file)\n",
        "print(img.shape)\n",
        "\n",
        "#Find all rows which have same file name\n",
        "rows_with_file = df[df['filename'] == img_file].index.tolist()\n",
        "\n",
        "#Draw rectangle(s) as per bounding box information\n",
        "for i in rows_with_file:\n",
        "\n",
        "    #Get bounding box\n",
        "    xmin, ymin, xmax, ymax = df.loc[i, ['xmin', 'ymin', 'xmax', 'ymax']]\n",
        "    #Get Label\n",
        "    label = df.loc[i, 'class']\n",
        "    #Add bounding box\n",
        "    cv2.rectangle(img, (xmin,ymin), (xmax, ymax), (0,255,0), 2)\n",
        "    #Add text\n",
        "    cv2.putText(img,label,(xmin, ymin-5),cv2.FONT_HERSHEY_SIMPLEX, 0.7, (0, 0, 255), 2)\n",
        "\n",
        "#Convert BGR format (used by opencv to RGB format used by matplotlib)\n",
        "img = cv2.cvtColor(img, cv2.COLOR_BGR2RGB)\n",
        "\n",
        "#Draw image using matplotlib\n",
        "plt.figure(figsize=(15,10))\n",
        "plt.imshow(img)\n",
        "plt.show()"
      ],
      "execution_count": 0,
      "outputs": []
    },
    {
      "cell_type": "code",
      "metadata": {
        "id": "X0786kPTctXt",
        "colab_type": "code",
        "colab": {}
      },
      "source": [
        "train_df.to_csv('train.csv', index=False)\n",
        "test_df.to_csv('test.csv', index=False)"
      ],
      "execution_count": 0,
      "outputs": []
    },
    {
      "cell_type": "code",
      "metadata": {
        "id": "q1Szfc2ectLU",
        "colab_type": "code",
        "colab": {}
      },
      "source": [
        "!ls -l"
      ],
      "execution_count": 0,
      "outputs": []
    },
    {
      "cell_type": "code",
      "metadata": {
        "id": "iErsY5y6fDh-",
        "colab_type": "code",
        "colab": {}
      },
      "source": [
        "#Copy generate_tfrecord.py from drive to current directory.\n",
        "!cp '/gdrive/My Drive/Colab Notebooks/generate_tfrecord.py' . "
      ],
      "execution_count": 0,
      "outputs": []
    },
    {
      "cell_type": "code",
      "metadata": {
        "id": "fg3eNFWPfDKY",
        "colab_type": "code",
        "colab": {}
      },
      "source": [
        "#Make sure models/research folder is on system path\n",
        "sys.path.append('/content/models/research')"
      ],
      "execution_count": 0,
      "outputs": []
    },
    {
      "cell_type": "code",
      "metadata": {
        "id": "9AoYfldgfDAD",
        "colab_type": "code",
        "colab": {}
      },
      "source": [
        "#generate tfrecord for training data\n",
        "!python generate_tfrecord.py --csv_input=train.csv  --img_path=Data --output_path=train.record\n",
        "\n",
        "#generate tfrecord for test data\n",
        "!python generate_tfrecord.py --csv_input=test.csv  --img_path=Data --output_path=test.record"
      ],
      "execution_count": 0,
      "outputs": []
    },
    {
      "cell_type": "code",
      "metadata": {
        "id": "yChC7HvrfC1q",
        "colab_type": "code",
        "colab": {}
      },
      "source": [
        "!ls -l"
      ],
      "execution_count": 0,
      "outputs": []
    },
    {
      "cell_type": "code",
      "metadata": {
        "id": "nLZkMbV_l3sh",
        "colab_type": "code",
        "colab": {}
      },
      "source": [
        "#Build a pbtxt label file using label and class name\n",
        "#This is required by Object detection API\n",
        "#You can prepare it manually as well. \n",
        "#A sample pbtxt file can be found at object_detection/data/pascal_label_map.pbtxt\n",
        "pbtxt_file_txt = ''\n",
        "for label in sorted(label_class_dict.keys()):\n",
        "    \n",
        "    pbtxt_file_txt += \"item {\\n  id: \" + str(label) + \"\\n  name: '\" +  label_class_dict[label] + \"'\\n}\\n\\n\"\n",
        "\n",
        "with open('pascal_voc.pbtxt','w') as pbfile:\n",
        "    pbfile.write(pbtxt_file_txt)"
      ],
      "execution_count": 0,
      "outputs": []
    },
    {
      "cell_type": "code",
      "metadata": {
        "id": "VSX2JGBhl3po",
        "colab_type": "code",
        "colab": {}
      },
      "source": [
        "!ls -l"
      ],
      "execution_count": 0,
      "outputs": []
    },
    {
      "cell_type": "code",
      "metadata": {
        "id": "X0AbMhf_l3nq",
        "colab_type": "code",
        "colab": {}
      },
      "source": [
        "!cat pascal_voc.pbtxt"
      ],
      "execution_count": 0,
      "outputs": []
    },
    {
      "cell_type": "code",
      "metadata": {
        "id": "sewIrnh0l3hG",
        "colab_type": "code",
        "colab": {}
      },
      "source": [
        "#Download the model from zoo\n",
        "!wget -q http://download.tensorflow.org/models/object_detection/ssd_mobilenet_v1_coco_2018_01_28.tar.gz"
      ],
      "execution_count": 0,
      "outputs": []
    },
    {
      "cell_type": "code",
      "metadata": {
        "id": "RNdUGFvBcs_d",
        "colab_type": "code",
        "colab": {}
      },
      "source": [
        "#Extract tar file content\n",
        "!tar -xvf ssd_mobilenet_v1_coco_2018_01_28.tar.gz"
      ],
      "execution_count": 0,
      "outputs": []
    },
    {
      "cell_type": "code",
      "metadata": {
        "id": "jvPaHCf1bY-6",
        "colab_type": "code",
        "colab": {}
      },
      "source": [
        "!ls -l ssd_mobilenet_v1_coco_2018_01_28"
      ],
      "execution_count": 0,
      "outputs": []
    },
    {
      "cell_type": "code",
      "metadata": {
        "id": "Uq3v6EIimU2F",
        "colab_type": "code",
        "colab": {}
      },
      "source": [
        "#Copy ssd_mobilenet_v1_coco_pascal_voc.config from drive to current directory. \n",
        "#Change gdrive folder if you have saved script in some other folder\n",
        "!cp '/gdrive/My Drive/Colab Notebooks/ssd_mobilenet_v1_coco_pascal_voc.config' . "
      ],
      "execution_count": 0,
      "outputs": []
    },
    {
      "cell_type": "code",
      "metadata": {
        "id": "2EYxKbkfmUyh",
        "colab_type": "code",
        "colab": {}
      },
      "source": [
        "!cat  ssd_mobilenet_v1_coco_pascal_voc.config"
      ],
      "execution_count": 0,
      "outputs": []
    },
    {
      "cell_type": "code",
      "metadata": {
        "id": "SQId6zwpmUvQ",
        "colab_type": "code",
        "colab": {}
      },
      "source": [
        "#Copy train.py file from 'models/research/object_detection/legacy' folder to current folder\n",
        "!cp /content/models/research/object_detection/legacy/train.py ."
      ],
      "execution_count": 0,
      "outputs": []
    },
    {
      "cell_type": "code",
      "metadata": {
        "id": "5TsPSVirm8Nv",
        "colab_type": "code",
        "colab": {}
      },
      "source": [
        "!mkdir training"
      ],
      "execution_count": 0,
      "outputs": []
    },
    {
      "cell_type": "code",
      "metadata": {
        "id": "bLM8gBb0mUr4",
        "colab_type": "code",
        "colab": {}
      },
      "source": [
        "#start training\n",
        "!python train.py --train_dir=training/ --pipeline_config_path=ssd_mobilenet_v1_coco_pascal_voc.config --logtostderr"
      ],
      "execution_count": 0,
      "outputs": []
    },
    {
      "cell_type": "code",
      "metadata": {
        "id": "8WDFwPCXmUlw",
        "colab_type": "code",
        "colab": {}
      },
      "source": [
        "#Copy export_inference_graph.py file from models/research/object_detection to current directory\n",
        "!cp /content/models/research/object_detection/export_inference_graph.py ."
      ],
      "execution_count": 0,
      "outputs": []
    },
    {
      "cell_type": "code",
      "metadata": {
        "id": "ZAWOqCKvrQqD",
        "colab_type": "code",
        "colab": {}
      },
      "source": [
        "!ls -l training"
      ],
      "execution_count": 0,
      "outputs": []
    },
    {
      "cell_type": "code",
      "metadata": {
        "id": "9zjfFTAHmUfL",
        "colab_type": "code",
        "colab": {}
      },
      "source": [
        "#Provide input name, config file location, training folder\n",
        "!python export_inference_graph.py --input_type image_tensor --pipeline_config_path ssd_mobilenet_v1_coco_pascal_voc.config --trained_checkpoint_prefix training/model.ckpt-376 --output_directory pascal_voc_ssd_model-376"
      ],
      "execution_count": 0,
      "outputs": []
    },
    {
      "cell_type": "code",
      "metadata": {
        "id": "U8wzFmKgs_0O",
        "colab_type": "code",
        "colab": {}
      },
      "source": [
        "#Provide input name, config file location, training folder\n",
        "!python export_inference_graph.py --input_type image_tensor --pipeline_config_path ssd_mobilenet_v1_coco_pascal_voc.config --trained_checkpoint_prefix training/model.ckpt-400 --output_directory pascal_voc_ssd_model-400"
      ],
      "execution_count": 0,
      "outputs": []
    },
    {
      "cell_type": "code",
      "metadata": {
        "id": "XVEV4wrhmUcT",
        "colab_type": "code",
        "colab": {}
      },
      "source": [
        "#Check if model is saved in current direcoty\n",
        "!ls -l pascal_voc_ssd_model-376"
      ],
      "execution_count": 0,
      "outputs": []
    },
    {
      "cell_type": "code",
      "metadata": {
        "id": "XG4zI01ytL_P",
        "colab_type": "code",
        "colab": {}
      },
      "source": [
        "#Check if model is saved in current direcoty\n",
        "!ls -l pascal_voc_ssd_model-400"
      ],
      "execution_count": 0,
      "outputs": []
    },
    {
      "cell_type": "code",
      "metadata": {
        "id": "Ak16iAM5mUYu",
        "colab_type": "code",
        "colab": {}
      },
      "source": [
        "!cp -r pascal_voc_ssd_model-376 '/gdrive/My Drive/Colab Notebooks/Capstone/'"
      ],
      "execution_count": 0,
      "outputs": []
    },
    {
      "cell_type": "code",
      "metadata": {
        "id": "jU8zRIOBtUEH",
        "colab_type": "code",
        "colab": {}
      },
      "source": [
        "!cp -r pascal_voc_ssd_model-400 '/gdrive/My Drive/Colab Notebooks/Capstone/'"
      ],
      "execution_count": 0,
      "outputs": []
    }
  ]
}